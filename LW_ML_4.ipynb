{
 "cells": [
  {
   "cell_type": "code",
   "execution_count": 2,
   "metadata": {
    "collapsed": true
   },
   "outputs": [],
   "source": [
    "import pandas as pd\n",
    "import numpy as np\n",
    "from sklearn.datasets import load_digits\n",
    "from sklearn.model_selection  import train_test_split\n",
    "from numpy.linalg import norm\n",
    "from sklearn.metrics import accuracy_score, confusion_matrix\n",
    "from sklearn.base import BaseEstimator, ClassifierMixin\n",
    "from sklearn.metrics import accuracy_score\n",
    "from scipy.spatial.distance import euclidean"
   ]
  },
  {
   "cell_type": "code",
   "execution_count": 3,
   "metadata": {
    "collapsed": true
   },
   "outputs": [],
   "source": [
    "digits = load_digits() #loading digits dataset from sklearn"
   ]
  },
  {
   "cell_type": "code",
   "execution_count": 4,
   "metadata": {
    "collapsed": true
   },
   "outputs": [],
   "source": [
    "X_train, X_test, y_train, y_test = train_test_split(digits.data, digits.target, test_size=0.33, random_state=1)"
   ]
  },
  {
   "cell_type": "code",
   "execution_count": 5,
   "metadata": {
    "collapsed": true
   },
   "outputs": [],
   "source": [
    "class potential_functions(BaseEstimator, ClassifierMixin):\n",
    "    def __init__(self, k):\n",
    "        self.k = k\n",
    "    def fit(self, X, y = None):\n",
    "        self.X = X\n",
    "        self.y = y\n",
    "    def F(self, d):\n",
    "        return  1 / (d + 1)\n",
    "    def predict(self, X):\n",
    "        predictions = list()\n",
    "        for x in X:\n",
    "            distances = list()\n",
    "            for i in range(0,len(self.X)):\n",
    "                distances.append([euclidean(x, self.X[i]), self.y[i], 1 / euclidean(x, X_train[i]) + 1]) \n",
    "            distances.sort()\n",
    "            weights = [0]*len(set(self.y))\n",
    "            for i in range(self.k):\n",
    "                weights[int(distances[i][1])] += distances[i][2]\n",
    "            predictions.append(weights.index(max(weights)))\n",
    "        return predictions\n",
    "    def PE(self, X, y, eps):\n",
    "        gamma = [0]*len(y)\n",
    "        y_1 = [0]*len(y)\n",
    "        y_1 = self.predict(X)\n",
    "        print(accuracy_score(y,y_1))\n",
    "        if (accuracy_score(y,y_1) < eps):\n",
    "            for i in range(len(gamma)):\n",
    "                if (y_1[i] != y[i]):\n",
    "                    gamma[i] += 1\n",
    "                else:\n",
    "                    gamma[i] = y_1[i]                      \n",
    "        return gamma\n",
    "            "
   ]
  },
  {
   "cell_type": "code",
   "execution_count": 6,
   "metadata": {
    "collapsed": true
   },
   "outputs": [],
   "source": [
    "potential_functions = potential_functions(k=3)"
   ]
  },
  {
   "cell_type": "code",
   "execution_count": 7,
   "metadata": {
    "collapsed": true
   },
   "outputs": [],
   "source": [
    "potential_functions.fit(X_train, y_train)"
   ]
  },
  {
   "cell_type": "code",
   "execution_count": 8,
   "metadata": {},
   "outputs": [
    {
     "name": "stdout",
     "output_type": "stream",
     "text": [
      "0.9848484848484849\n"
     ]
    }
   ],
   "source": [
    "gamma = potential_functions.PE(X_test, y_test, 1.0)"
   ]
  },
  {
   "cell_type": "code",
   "execution_count": 9,
   "metadata": {
    "collapsed": true
   },
   "outputs": [],
   "source": [
    "from scipy.spatial.distance import euclidean\n",
    "def predict_LW3(X_test, X_train, y_train, k):\n",
    "    predictions = list()\n",
    "    for x in X_test:\n",
    "        distances = list()\n",
    "        for i in range(0,len(X_train)):\n",
    "            distances.append([euclidean(x, X_train[i]), y_train[i], 1 / euclidean(x, X_train[i]) + 1]) \n",
    "        distances.sort()\n",
    "        weights = [0]*len(set(y_train))\n",
    "        for i in range(k):\n",
    "            weights[int(distances[i][1])] += distances[i][2]\n",
    "        predictions.append(weights.index(max(weights)))\n",
    "    return predictions"
   ]
  },
  {
   "cell_type": "code",
   "execution_count": 10,
   "metadata": {
    "collapsed": true
   },
   "outputs": [],
   "source": [
    "k = 3\n",
    "predictions = predict_LW3(X_test, X_train, y_train, k)\n",
    "LW3_matrix = confusion_matrix(y_test, predictions)"
   ]
  },
  {
   "cell_type": "code",
   "execution_count": 11,
   "metadata": {
    "collapsed": true
   },
   "outputs": [],
   "source": [
    "pe_matrix = confusion_matrix(y_test, gamma)"
   ]
  },
  {
   "cell_type": "code",
   "execution_count": 12,
   "metadata": {},
   "outputs": [
    {
     "name": "stdout",
     "output_type": "stream",
     "text": [
      "Confusion Matrix from LW3:\n",
      " [[63  0  0  0  0  0  0  0  0  0]\n",
      " [ 0 58  0  0  0  1  0  0  0  0]\n",
      " [ 0  0 54  0  0  0  0  1  0  0]\n",
      " [ 0  0  0 68  0  0  0  0  0  0]\n",
      " [ 0  0  0  0 66  0  0  0  0  0]\n",
      " [ 0  0  0  0  0 51  0  0  0  1]\n",
      " [ 0  0  0  0  0  0 54  0  0  0]\n",
      " [ 0  0  0  0  0  0  0 61  0  1]\n",
      " [ 0  1  0  0  0  0  0  0 50  0]\n",
      " [ 0  1  0  1  0  1  0  0  1 60]]\n",
      "Confusion Matrix from LW4:\n",
      " [[63  0  0  0  0  0  0  0  0  0]\n",
      " [ 0 59  0  0  0  0  0  0  0  0]\n",
      " [ 0  1 54  0  0  0  0  0  0  0]\n",
      " [ 0  0  0 68  0  0  0  0  0  0]\n",
      " [ 0  0  0  0 66  0  0  0  0  0]\n",
      " [ 0  1  0  0  0 51  0  0  0  0]\n",
      " [ 0  0  0  0  0  0 54  0  0  0]\n",
      " [ 0  1  0  0  0  0  0 61  0  0]\n",
      " [ 0  1  0  0  0  0  0  0 50  0]\n",
      " [ 0  4  0  0  0  0  0  0  0 60]]\n",
      "Difference between them:\n",
      " [[ 0  0  0  0  0  0  0  0  0  0]\n",
      " [ 0 -1  0  0  0  1  0  0  0  0]\n",
      " [ 0 -1  0  0  0  0  0  1  0  0]\n",
      " [ 0  0  0  0  0  0  0  0  0  0]\n",
      " [ 0  0  0  0  0  0  0  0  0  0]\n",
      " [ 0 -1  0  0  0  0  0  0  0  1]\n",
      " [ 0  0  0  0  0  0  0  0  0  0]\n",
      " [ 0 -1  0  0  0  0  0  0  0  1]\n",
      " [ 0  0  0  0  0  0  0  0  0  0]\n",
      " [ 0 -3  0  1  0  1  0  0  1  0]]\n"
     ]
    }
   ],
   "source": [
    "print(\"Confusion Matrix from LW3:\\n\", LW3_matrix)\n",
    "print(\"Confusion Matrix from LW4:\\n\", pe_matrix)\n",
    "print(\"Difference between them:\\n\", LW3_matrix - pe_matrix)"
   ]
  },
  {
   "cell_type": "code",
   "execution_count": 13,
   "metadata": {},
   "outputs": [
    {
     "data": {
      "text/plain": [
       "0.9865319865319865"
      ]
     },
     "execution_count": 13,
     "metadata": {},
     "output_type": "execute_result"
    }
   ],
   "source": [
    "accuracy_score(y_test, gamma)"
   ]
  },
  {
   "cell_type": "code",
   "execution_count": null,
   "metadata": {
    "collapsed": true
   },
   "outputs": [],
   "source": []
  }
 ],
 "metadata": {
  "kernelspec": {
   "display_name": "Python 3",
   "language": "python",
   "name": "python3"
  },
  "language_info": {
   "codemirror_mode": {
    "name": "ipython",
    "version": 3
   },
   "file_extension": ".py",
   "mimetype": "text/x-python",
   "name": "python",
   "nbconvert_exporter": "python",
   "pygments_lexer": "ipython3",
   "version": "3.6.2"
  }
 },
 "nbformat": 4,
 "nbformat_minor": 2
}
