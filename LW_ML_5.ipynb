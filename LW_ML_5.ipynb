{
 "cells": [
  {
   "cell_type": "code",
   "execution_count": 1,
   "metadata": {
    "collapsed": true
   },
   "outputs": [],
   "source": [
    "import sklearn as sk\n",
    "import numpy as np\n",
    "import pandas as pd\n",
    "from sklearn.datasets import load_breast_cancer\n",
    "from sklearn.linear_model import LogisticRegression\n",
    "from sklearn.model_selection  import train_test_split\n",
    "from sklearn.base import BaseEstimator, ClassifierMixin\n",
    "from sklearn.metrics import accuracy_score\n",
    "import math"
   ]
  },
  {
   "cell_type": "code",
   "execution_count": 2,
   "metadata": {
    "collapsed": true
   },
   "outputs": [],
   "source": [
    "data = load_breast_cancer()"
   ]
  },
  {
   "cell_type": "code",
   "execution_count": 3,
   "metadata": {
    "collapsed": true
   },
   "outputs": [],
   "source": [
    "X_train, X_test, y_train, y_test = train_test_split(data.data, data.target, test_size=0.2, random_state=1)"
   ]
  },
  {
   "cell_type": "code",
   "execution_count": 4,
   "metadata": {
    "scrolled": true
   },
   "outputs": [
    {
     "name": "stdout",
     "output_type": "stream",
     "text": [
      "Accuracy score sk-learn: 0.956140350877193\n"
     ]
    }
   ],
   "source": [
    "clf = LogisticRegression()\n",
    "clf.fit(X_train,y_train)\n",
    "clf_pred = clf.predict(X_test)\n",
    "print(\"Accuracy score sk-learn:\", accuracy_score(y_test, clf_pred))"
   ]
  },
  {
   "cell_type": "code",
   "execution_count": 8,
   "metadata": {},
   "outputs": [],
   "source": [
    "class logreg(BaseEstimator, ClassifierMixin):\n",
    "    def __init__(self, alpha = 0.01, iters = 1000):\n",
    "        self.alpha = alpha\n",
    "        self.iters = iters\n",
    "        print(\"j\")\n",
    "        \n",
    "    def fit(self, X, y):\n",
    "        self.X = X\n",
    "        self.y = y\n",
    "        self.theta = np.zeros(X.shape[1])\n",
    "        for x in range(self.iters):\n",
    "            new_theta = self.Gradient_Descent()\n",
    "            self.theta = new_theta\n",
    "        \n",
    "        print(\"fit\")\n",
    "##The sigmoid function \n",
    "    def Sigmoid(self, z):\n",
    "        return 1./(1. + np.exp(-z))\n",
    "\n",
    "    ##The hypothesis \n",
    "    def Hypothesis(self, x):\n",
    "        z = x.dot(self.theta)\n",
    "        return self.Sigmoid(z)\n",
    "\n",
    "    def Cost_Function_Derivative(self, j):\n",
    "        sumErrors = 0\n",
    "        for i in range(len(self.X)):\n",
    "            xi = self.X[i]\n",
    "            xij = xi[j]\n",
    "            hi = self.Hypothesis(xi)\n",
    "            error = (hi - self.y[i])*xij\n",
    "            sumErrors += error\n",
    "        J = sumErrors\n",
    "        return J\n",
    "\n",
    "    def Gradient_Descent(self):\n",
    "        new_theta = [0]*len(self.theta)\n",
    "        for j in range(len(self.theta)):\n",
    "            CFDerivative = self.Cost_Function_Derivative(j)\n",
    "            new_theta_value = self.theta[j] - CFDerivative\n",
    "            new_theta[j] = new_theta_value\n",
    "        return new_theta\n",
    "\n",
    "    def predict(self, X):\n",
    "        m = len(X)\n",
    "        prediction = [0]*len(X)\n",
    "        print(\"pred\")\n",
    "        for i in range(m):\n",
    "            prediction[i] = self.Hypothesis(X[i])\n",
    "            if (prediction[i] > 0.5):\n",
    "                prediction[i] = 1\n",
    "            else:\n",
    "                prediction[i] = 0\n",
    "        return prediction\n"
   ]
  },
  {
   "cell_type": "code",
   "execution_count": 9,
   "metadata": {},
   "outputs": [
    {
     "name": "stdout",
     "output_type": "stream",
     "text": [
      "j\n"
     ]
    }
   ],
   "source": [
    "logreg = logreg()"
   ]
  },
  {
   "cell_type": "code",
   "execution_count": 10,
   "metadata": {},
   "outputs": [
    {
     "name": "stderr",
     "output_type": "stream",
     "text": [
      "/Users/macbook/anaconda3/lib/python3.6/site-packages/ipykernel_launcher.py:18: RuntimeWarning: overflow encountered in exp\n"
     ]
    },
    {
     "name": "stdout",
     "output_type": "stream",
     "text": [
      "fit\n",
      "pred\n"
     ]
    }
   ],
   "source": [
    "logreg.fit(X_train,y_train)\n",
    "my_pred = logreg.predict(X_test)\n"
   ]
  },
  {
   "cell_type": "code",
   "execution_count": 11,
   "metadata": {},
   "outputs": [
    {
     "name": "stdout",
     "output_type": "stream",
     "text": [
      "Accuracy score: 0.8947368421052632\n"
     ]
    }
   ],
   "source": [
    "print(\"Accuracy score:\", accuracy_score(y_test, my_pred))"
   ]
  },
  {
   "cell_type": "code",
   "execution_count": null,
   "metadata": {
    "collapsed": true
   },
   "outputs": [],
   "source": []
  }
 ],
 "metadata": {
  "kernelspec": {
   "display_name": "Python 3",
   "language": "python",
   "name": "python3"
  },
  "language_info": {
   "codemirror_mode": {
    "name": "ipython",
    "version": 3
   },
   "file_extension": ".py",
   "mimetype": "text/x-python",
   "name": "python",
   "nbconvert_exporter": "python",
   "pygments_lexer": "ipython3",
   "version": "3.6.2"
  }
 },
 "nbformat": 4,
 "nbformat_minor": 2
}
