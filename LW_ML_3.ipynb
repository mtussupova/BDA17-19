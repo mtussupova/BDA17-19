{
 "cells": [
  {
   "cell_type": "code",
   "execution_count": 1,
   "metadata": {
    "collapsed": true
   },
   "outputs": [],
   "source": [
    "import pandas as pd\n",
    "import numpy as np\n",
    "import math\n",
    "import sklearn as sk \n",
    "from sklearn.model_selection  import train_test_split\n",
    "from sklearn.metrics import accuracy_score, confusion_matrix\n",
    "from sklearn.neighbors import KNeighborsClassifier\n",
    "from numpy.linalg import norm\n",
    "from sklearn.datasets import load_digits"
   ]
  },
  {
   "cell_type": "code",
   "execution_count": 2,
   "metadata": {
    "collapsed": true
   },
   "outputs": [],
   "source": [
    "digits = load_digits() #loading digits dataset from sklearn"
   ]
  },
  {
   "cell_type": "code",
   "execution_count": 3,
   "metadata": {
    "collapsed": true
   },
   "outputs": [],
   "source": [
    "shape = digits.data.shape #Shape of dataset"
   ]
  },
  {
   "cell_type": "code",
   "execution_count": 4,
   "metadata": {
    "scrolled": true
   },
   "outputs": [
    {
     "name": "stdout",
     "output_type": "stream",
     "text": [
      "(1797, 64)\n"
     ]
    }
   ],
   "source": [
    "print(shape)"
   ]
  },
  {
   "cell_type": "code",
   "execution_count": 5,
   "metadata": {
    "collapsed": true
   },
   "outputs": [],
   "source": [
    "from sklearn.metrics.pairwise import euclidean_distances"
   ]
  },
  {
   "cell_type": "code",
   "execution_count": 6,
   "metadata": {
    "collapsed": true
   },
   "outputs": [],
   "source": [
    "X_train, X_test, y_train, y_test = train_test_split(digits.data, digits.target, test_size=0.33, random_state=1)"
   ]
  },
  {
   "cell_type": "code",
   "execution_count": 7,
   "metadata": {},
   "outputs": [],
   "source": [
    "from scipy.spatial.distance import euclidean\n",
    "def predict(X_test, X_train, y_train, k):\n",
    "    predictions = list()\n",
    "    for x in X_test:\n",
    "        distances = list()\n",
    "        for i in range(0,len(X_train)):\n",
    "            distances.append([euclidean(x, X_train[i]), y_train[i], 1 / euclidean(x, X_train[i]) + 1]) \n",
    "        distances.sort()\n",
    "        weights = [0]*len(set(y_train))\n",
    "        for i in range(k):\n",
    "            weights[int(distances[i][1])] += distances[i][2]\n",
    "        predictions.append(weights.index(max(weights)))\n",
    "    return predictions"
   ]
  },
  {
   "cell_type": "code",
   "execution_count": 8,
   "metadata": {},
   "outputs": [],
   "source": [
    "k = 3\n",
    "predictions = predict(X_test, X_train, y_train, k)"
   ]
  },
  {
   "cell_type": "code",
   "execution_count": 9,
   "metadata": {
    "scrolled": true
   },
   "outputs": [
    {
     "data": {
      "text/plain": [
       "array([[63,  0,  0,  0,  0,  0,  0,  0,  0,  0],\n",
       "       [ 0, 58,  0,  0,  0,  1,  0,  0,  0,  0],\n",
       "       [ 0,  0, 54,  0,  0,  0,  0,  1,  0,  0],\n",
       "       [ 0,  0,  0, 68,  0,  0,  0,  0,  0,  0],\n",
       "       [ 0,  0,  0,  0, 66,  0,  0,  0,  0,  0],\n",
       "       [ 0,  0,  0,  0,  0, 51,  0,  0,  0,  1],\n",
       "       [ 0,  0,  0,  0,  0,  0, 54,  0,  0,  0],\n",
       "       [ 0,  0,  0,  0,  0,  0,  0, 61,  0,  1],\n",
       "       [ 0,  1,  0,  0,  0,  0,  0,  0, 50,  0],\n",
       "       [ 0,  1,  0,  1,  0,  1,  0,  0,  1, 60]])"
      ]
     },
     "execution_count": 9,
     "metadata": {},
     "output_type": "execute_result"
    }
   ],
   "source": [
    "confusion_matrix(y_test, predictions)"
   ]
  },
  {
   "cell_type": "code",
   "execution_count": 10,
   "metadata": {},
   "outputs": [
    {
     "data": {
      "text/plain": [
       "KNeighborsClassifier(algorithm='auto', leaf_size=30, metric='minkowski',\n",
       "           metric_params=None, n_jobs=1, n_neighbors=4, p=2,\n",
       "           weights='uniform')"
      ]
     },
     "execution_count": 10,
     "metadata": {},
     "output_type": "execute_result"
    }
   ],
   "source": [
    "neigh = KNeighborsClassifier(n_neighbors=4)\n",
    "neigh.fit(X_train, y_train) "
   ]
  },
  {
   "cell_type": "code",
   "execution_count": 11,
   "metadata": {
    "collapsed": true
   },
   "outputs": [],
   "source": [
    "predict_sk = neigh.predict(X_test)"
   ]
  },
  {
   "cell_type": "code",
   "execution_count": 12,
   "metadata": {},
   "outputs": [
    {
     "data": {
      "text/plain": [
       "array([[63,  0,  0,  0,  0,  0,  0,  0,  0,  0],\n",
       "       [ 0, 59,  0,  0,  0,  0,  0,  0,  0,  0],\n",
       "       [ 0,  0, 54,  0,  0,  0,  0,  1,  0,  0],\n",
       "       [ 0,  0,  0, 68,  0,  0,  0,  0,  0,  0],\n",
       "       [ 0,  0,  0,  0, 66,  0,  0,  0,  0,  0],\n",
       "       [ 0,  0,  0,  0,  0, 52,  0,  0,  0,  0],\n",
       "       [ 0,  0,  0,  0,  0,  0, 54,  0,  0,  0],\n",
       "       [ 0,  0,  0,  0,  0,  0,  0, 62,  0,  0],\n",
       "       [ 0,  1,  0,  0,  0,  0,  0,  0, 50,  0],\n",
       "       [ 0,  1,  0,  1,  0,  1,  0,  0,  1, 60]])"
      ]
     },
     "execution_count": 12,
     "metadata": {},
     "output_type": "execute_result"
    }
   ],
   "source": [
    "confusion_matrix(y_test, predict_sk)"
   ]
  }
 ],
 "metadata": {
  "kernelspec": {
   "display_name": "Python 3",
   "language": "python",
   "name": "python3"
  },
  "language_info": {
   "codemirror_mode": {
    "name": "ipython",
    "version": 3
   },
   "file_extension": ".py",
   "mimetype": "text/x-python",
   "name": "python",
   "nbconvert_exporter": "python",
   "pygments_lexer": "ipython3",
   "version": "3.6.2"
  }
 },
 "nbformat": 4,
 "nbformat_minor": 2
}
